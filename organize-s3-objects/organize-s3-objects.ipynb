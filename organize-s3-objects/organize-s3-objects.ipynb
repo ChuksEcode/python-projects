{
 "cells": [
  {
   "cell_type": "code",
   "execution_count": 6,
   "metadata": {},
   "outputs": [],
   "source": [
    "import boto3\n",
    "from datetime import datetime"
   ]
  },
  {
   "cell_type": "code",
   "execution_count": 7,
   "metadata": {},
   "outputs": [],
   "source": [
    "today = datetime.today()"
   ]
  },
  {
   "cell_type": "code",
   "execution_count": 8,
   "metadata": {},
   "outputs": [
    {
     "data": {
      "text/plain": [
       "datetime.datetime(2023, 7, 4, 1, 58, 10, 555344)"
      ]
     },
     "execution_count": 8,
     "metadata": {},
     "output_type": "execute_result"
    }
   ],
   "source": [
    "today"
   ]
  },
  {
   "cell_type": "code",
   "execution_count": 9,
   "metadata": {},
   "outputs": [],
   "source": [
    "todays_date = today.strftime(\"%Y%m%d\")"
   ]
  },
  {
   "cell_type": "code",
   "execution_count": 10,
   "metadata": {},
   "outputs": [
    {
     "data": {
      "text/plain": [
       "'20230704'"
      ]
     },
     "execution_count": 10,
     "metadata": {},
     "output_type": "execute_result"
    }
   ],
   "source": [
    "todays_date"
   ]
  },
  {
   "cell_type": "code",
   "execution_count": 11,
   "metadata": {},
   "outputs": [],
   "source": [
    "s3_client = boto3.client('s3')"
   ]
  },
  {
   "cell_type": "code",
   "execution_count": 12,
   "metadata": {},
   "outputs": [],
   "source": [
    "bucket_name = \"ccenotes-organise-s3-objects\""
   ]
  },
  {
   "cell_type": "code",
   "execution_count": 13,
   "metadata": {},
   "outputs": [],
   "source": [
    "list_objects_response = s3_client.list_objects_v2(Bucket=bucket_name)"
   ]
  },
  {
   "cell_type": "code",
   "execution_count": 14,
   "metadata": {},
   "outputs": [
    {
     "data": {
      "text/plain": [
       "{'ResponseMetadata': {'RequestId': 'NH6TPBAZM03KBSJ6',\n",
       "  'HostId': 'S8oaZJkaUZqlI41QxKg4t0VUD3QErU4IfhZM0AsC79weX3byy+Dss3flHrZjzU3Pyu6GHS3CPjeVNxV5yNMyJpuEU9dNTuQo',\n",
       "  'HTTPStatusCode': 200,\n",
       "  'HTTPHeaders': {'x-amz-id-2': 'S8oaZJkaUZqlI41QxKg4t0VUD3QErU4IfhZM0AsC79weX3byy+Dss3flHrZjzU3Pyu6GHS3CPjeVNxV5yNMyJpuEU9dNTuQo',\n",
       "   'x-amz-request-id': 'NH6TPBAZM03KBSJ6',\n",
       "   'date': 'Mon, 03 Jul 2023 23:58:15 GMT',\n",
       "   'x-amz-bucket-region': 'us-east-1',\n",
       "   'content-type': 'application/xml',\n",
       "   'transfer-encoding': 'chunked',\n",
       "   'server': 'AmazonS3'},\n",
       "  'RetryAttempts': 0},\n",
       " 'IsTruncated': False,\n",
       " 'Contents': [{'Key': '09_ITModernization-Jobs-scaled.jpeg',\n",
       "   'LastModified': datetime.datetime(2023, 7, 3, 23, 31, 8, tzinfo=tzutc()),\n",
       "   'ETag': '\"98de12c8cf7da25203122a1014d6b9e7\"',\n",
       "   'Size': 761166,\n",
       "   'StorageClass': 'STANDARD'},\n",
       "  {'Key': '12-22-2020 a highly available well secured web app diagram.png',\n",
       "   'LastModified': datetime.datetime(2023, 7, 3, 23, 30, 59, tzinfo=tzutc()),\n",
       "   'ETag': '\"349c4429fb86ac76a5682c6b4f8d8059\"',\n",
       "   'Size': 106938,\n",
       "   'StorageClass': 'STANDARD'},\n",
       "  {'Key': 'church logo.png',\n",
       "   'LastModified': datetime.datetime(2023, 7, 3, 23, 31, tzinfo=tzutc()),\n",
       "   'ETag': '\"e66e0a45c8284acd4a3240bf868b4855\"',\n",
       "   'Size': 73540,\n",
       "   'StorageClass': 'STANDARD'},\n",
       "  {'Key': 'depositphotos_86737848-stock-illustration-church-logo-flames-on-the.jpg',\n",
       "   'LastModified': datetime.datetime(2023, 7, 3, 23, 31, 2, tzinfo=tzutc()),\n",
       "   'ETag': '\"509a3b9c8d5a668f6409c75af3e80878\"',\n",
       "   'Size': 58282,\n",
       "   'StorageClass': 'STANDARD'}],\n",
       " 'Name': 'ccenotes-organise-s3-objects',\n",
       " 'Prefix': '',\n",
       " 'MaxKeys': 1000,\n",
       " 'EncodingType': 'url',\n",
       " 'KeyCount': 4}"
      ]
     },
     "execution_count": 14,
     "metadata": {},
     "output_type": "execute_result"
    }
   ],
   "source": [
    "list_objects_response"
   ]
  },
  {
   "cell_type": "code",
   "execution_count": 15,
   "metadata": {},
   "outputs": [],
   "source": [
    "get_contents = list_objects_response.get(\"Contents\")"
   ]
  },
  {
   "cell_type": "code",
   "execution_count": 16,
   "metadata": {},
   "outputs": [
    {
     "data": {
      "text/plain": [
       "[{'Key': '09_ITModernization-Jobs-scaled.jpeg',\n",
       "  'LastModified': datetime.datetime(2023, 7, 3, 23, 31, 8, tzinfo=tzutc()),\n",
       "  'ETag': '\"98de12c8cf7da25203122a1014d6b9e7\"',\n",
       "  'Size': 761166,\n",
       "  'StorageClass': 'STANDARD'},\n",
       " {'Key': '12-22-2020 a highly available well secured web app diagram.png',\n",
       "  'LastModified': datetime.datetime(2023, 7, 3, 23, 30, 59, tzinfo=tzutc()),\n",
       "  'ETag': '\"349c4429fb86ac76a5682c6b4f8d8059\"',\n",
       "  'Size': 106938,\n",
       "  'StorageClass': 'STANDARD'},\n",
       " {'Key': 'church logo.png',\n",
       "  'LastModified': datetime.datetime(2023, 7, 3, 23, 31, tzinfo=tzutc()),\n",
       "  'ETag': '\"e66e0a45c8284acd4a3240bf868b4855\"',\n",
       "  'Size': 73540,\n",
       "  'StorageClass': 'STANDARD'},\n",
       " {'Key': 'depositphotos_86737848-stock-illustration-church-logo-flames-on-the.jpg',\n",
       "  'LastModified': datetime.datetime(2023, 7, 3, 23, 31, 2, tzinfo=tzutc()),\n",
       "  'ETag': '\"509a3b9c8d5a668f6409c75af3e80878\"',\n",
       "  'Size': 58282,\n",
       "  'StorageClass': 'STANDARD'}]"
      ]
     },
     "execution_count": 16,
     "metadata": {},
     "output_type": "execute_result"
    }
   ],
   "source": [
    "get_contents"
   ]
  },
  {
   "cell_type": "code",
   "execution_count": 17,
   "metadata": {},
   "outputs": [],
   "source": [
    "get_all_s3_object_and_file_names = []\n",
    "\n",
    "for item in get_contents:\n",
    "    s3_object_name = item.get(\"Key\")\n",
    "\n",
    "    get_all_s3_object_and_file_names.append(s3_object_name)"
   ]
  },
  {
   "cell_type": "code",
   "execution_count": 18,
   "metadata": {},
   "outputs": [
    {
     "data": {
      "text/plain": [
       "['09_ITModernization-Jobs-scaled.jpeg',\n",
       " '12-22-2020 a highly available well secured web app diagram.png',\n",
       " 'church logo.png',\n",
       " 'depositphotos_86737848-stock-illustration-church-logo-flames-on-the.jpg']"
      ]
     },
     "execution_count": 18,
     "metadata": {},
     "output_type": "execute_result"
    }
   ],
   "source": [
    "get_all_s3_object_and_file_names"
   ]
  },
  {
   "cell_type": "code",
   "execution_count": null,
   "metadata": {},
   "outputs": [],
   "source": [
    "  directory_name = todays_date + \"/\""
   ]
  },
  {
   "cell_type": "code",
   "execution_count": null,
   "metadata": {},
   "outputs": [],
   "source": [
    "directory_name"
   ]
  }
 ],
 "metadata": {
  "kernelspec": {
   "display_name": "base",
   "language": "python",
   "name": "python3"
  },
  "language_info": {
   "codemirror_mode": {
    "name": "ipython",
    "version": 3
   },
   "file_extension": ".py",
   "mimetype": "text/x-python",
   "name": "python",
   "nbconvert_exporter": "python",
   "pygments_lexer": "ipython3",
   "version": "3.9.12"
  },
  "orig_nbformat": 4
 },
 "nbformat": 4,
 "nbformat_minor": 2
}
